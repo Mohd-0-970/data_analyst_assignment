{
 "cells": [
  {
   "cell_type": "code",
   "execution_count": 4,
   "id": "1759a531-1f43-4586-a06e-bdb3ee415b77",
   "metadata": {},
   "outputs": [],
   "source": [
    "import pandas as pd\n",
    "import glob"
   ]
  },
  {
   "cell_type": "markdown",
   "id": "8a14fcf5-84bb-42b5-86a3-2e0c638fdf0e",
   "metadata": {},
   "source": [
    "### First Method\n"
   ]
  },
  {
   "cell_type": "code",
   "execution_count": 5,
   "id": "74be5352-ecc8-4785-ad1e-f7870acffcb2",
   "metadata": {},
   "outputs": [
    {
     "name": "stdout",
     "output_type": "stream",
     "text": [
      "DataFrame saved to: merged_output.csv\n"
     ]
    }
   ],
   "source": [
    "def merge_csv_files(path, output_file):\n",
    "   \n",
    "                # Geting all CSV files in Data folder\n",
    "    all_files = glob.glob(path + '*/*/*.csv')\n",
    "    \n",
    "             # Initialize an empty list to hold dataframes\n",
    "    li = []\n",
    "    \n",
    "            # Read each CSV file and append to the list\n",
    "    for filename in all_files:\n",
    "        df = pd.read_csv(filename, index_col=None, header=0)\n",
    "        li.append(df)\n",
    "    \n",
    "            # Concatenate all dataframes into one\n",
    "    combined_df = pd.concat(li, axis=0, ignore_index=True)\n",
    "    \n",
    "            # Group by the 'Date' column and sum the values in other columns\n",
    "    resulting_dataframe = combined_df.groupby('Date', as_index=False).sum()\n",
    "    \n",
    "    # Save the resulting DataFrame to a CSV file\n",
    "    resulting_dataframe.to_csv(output_file, index=False)\n",
    "    \n",
    "    return resulting_dataframe\n",
    "\n",
    "# Example usage:\n",
    "path = 'data/'\n",
    "output_file = 'merged_output.csv'\n",
    "final_df = merge_csv_files(path, output_file)\n",
    "print(\"DataFrame saved to:\", output_file)\n"
   ]
  },
  {
   "cell_type": "code",
   "execution_count": 6,
   "id": "88bebb16-c373-4251-9574-49e2544844e9",
   "metadata": {},
   "outputs": [
    {
     "data": {
      "text/html": [
       "<div>\n",
       "<style scoped>\n",
       "    .dataframe tbody tr th:only-of-type {\n",
       "        vertical-align: middle;\n",
       "    }\n",
       "\n",
       "    .dataframe tbody tr th {\n",
       "        vertical-align: top;\n",
       "    }\n",
       "\n",
       "    .dataframe thead th {\n",
       "        text-align: right;\n",
       "    }\n",
       "</style>\n",
       "<table border=\"1\" class=\"dataframe\">\n",
       "  <thead>\n",
       "    <tr style=\"text-align: right;\">\n",
       "      <th></th>\n",
       "      <th>Date</th>\n",
       "      <th>GHI</th>\n",
       "      <th>PR</th>\n",
       "    </tr>\n",
       "  </thead>\n",
       "  <tbody>\n",
       "    <tr>\n",
       "      <th>0</th>\n",
       "      <td>2019-07-01</td>\n",
       "      <td>3.256608</td>\n",
       "      <td>69.575676</td>\n",
       "    </tr>\n",
       "    <tr>\n",
       "      <th>1</th>\n",
       "      <td>2019-07-02</td>\n",
       "      <td>3.976767</td>\n",
       "      <td>79.314411</td>\n",
       "    </tr>\n",
       "    <tr>\n",
       "      <th>2</th>\n",
       "      <td>2019-07-03</td>\n",
       "      <td>2.811867</td>\n",
       "      <td>61.020006</td>\n",
       "    </tr>\n",
       "    <tr>\n",
       "      <th>3</th>\n",
       "      <td>2019-07-04</td>\n",
       "      <td>3.658408</td>\n",
       "      <td>83.262576</td>\n",
       "    </tr>\n",
       "    <tr>\n",
       "      <th>4</th>\n",
       "      <td>2019-07-05</td>\n",
       "      <td>5.590683</td>\n",
       "      <td>82.124440</td>\n",
       "    </tr>\n",
       "  </tbody>\n",
       "</table>\n",
       "</div>"
      ],
      "text/plain": [
       "         Date       GHI         PR\n",
       "0  2019-07-01  3.256608  69.575676\n",
       "1  2019-07-02  3.976767  79.314411\n",
       "2  2019-07-03  2.811867  61.020006\n",
       "3  2019-07-04  3.658408  83.262576\n",
       "4  2019-07-05  5.590683  82.124440"
      ]
     },
     "execution_count": 6,
     "metadata": {},
     "output_type": "execute_result"
    }
   ],
   "source": [
    "final_df.head()"
   ]
  },
  {
   "cell_type": "code",
   "execution_count": 7,
   "id": "be1d4989-fc8b-4613-955e-60d432667919",
   "metadata": {},
   "outputs": [
    {
     "data": {
      "text/plain": [
       "(982, 3)"
      ]
     },
     "execution_count": 7,
     "metadata": {},
     "output_type": "execute_result"
    }
   ],
   "source": [
    "final_df.shape"
   ]
  },
  {
   "cell_type": "markdown",
   "id": "d7af5028-760c-4b69-856d-85a487d1f9fd",
   "metadata": {},
   "source": [
    "### Second Method"
   ]
  },
  {
   "cell_type": "code",
   "execution_count": 8,
   "id": "b376ee14-9b1f-4204-800d-20139e81b145",
   "metadata": {},
   "outputs": [],
   "source": [
    "def preprocess_data(ghi_path, pr_path, output_file):\n",
    "   \n",
    "        # Read all GHI and PR CSV files\n",
    "    \n",
    "    ghi_files = glob.glob(ghi_path + '*/*.csv')\n",
    "    pr_files = glob.glob(pr_path + '*/*.csv')\n",
    "    \n",
    "    ghi_list = [pd.read_csv(file) for file in ghi_files]\n",
    "    pr_list = [pd.read_csv(file) for file in pr_files]\n",
    "    \n",
    "        # Concatenate GHI and PR data\n",
    "    \n",
    "    ghi_df = pd.concat(ghi_list, axis=0, ignore_index=True)\n",
    "    pr_df = pd.concat(pr_list, axis=0, ignore_index=True)\n",
    "    \n",
    "        # Merge GHI and PR data on 'Date'\n",
    "    \n",
    "    merged_df = pd.merge(ghi_df, pr_df, on='Date', how='outer')\n",
    "    \n",
    "        # Ensure the columns are in the order: 'Date', 'GHI', 'PR'\n",
    "    \n",
    "    merged_df = merged_df[['Date', 'GHI', 'PR']]\n",
    "    \n",
    "        # Save the merged DataFrame to a CSV file\n",
    "    \n",
    "    merged_df.to_csv(output_file, index=False)\n",
    "    \n",
    "        # Verify the number of rows\n",
    "    \n",
    "    if len(merged_df) != 982:\n",
    "        raise ValueError(f\"The resulting CSV file should contain 982 rows, but it has {len(merged_df)} rows.\")\n",
    "    \n",
    "    return merged_df\n",
    "\n",
    "# Example usage:\n",
    "ghi_path = 'data/GHI/'\n",
    "pr_path = 'data/PR/'\n",
    "output_file = 'merged_data.csv'\n",
    "merged_data = preprocess_data(ghi_path, pr_path, output_file)"
   ]
  },
  {
   "cell_type": "code",
   "execution_count": 9,
   "id": "c2c0979f-ab1a-4192-96b8-24f6f4c1f230",
   "metadata": {},
   "outputs": [
    {
     "data": {
      "text/html": [
       "<div>\n",
       "<style scoped>\n",
       "    .dataframe tbody tr th:only-of-type {\n",
       "        vertical-align: middle;\n",
       "    }\n",
       "\n",
       "    .dataframe tbody tr th {\n",
       "        vertical-align: top;\n",
       "    }\n",
       "\n",
       "    .dataframe thead th {\n",
       "        text-align: right;\n",
       "    }\n",
       "</style>\n",
       "<table border=\"1\" class=\"dataframe\">\n",
       "  <thead>\n",
       "    <tr style=\"text-align: right;\">\n",
       "      <th></th>\n",
       "      <th>Date</th>\n",
       "      <th>GHI</th>\n",
       "      <th>PR</th>\n",
       "    </tr>\n",
       "  </thead>\n",
       "  <tbody>\n",
       "    <tr>\n",
       "      <th>0</th>\n",
       "      <td>2019-07-01</td>\n",
       "      <td>3.256608</td>\n",
       "      <td>69.575676</td>\n",
       "    </tr>\n",
       "    <tr>\n",
       "      <th>1</th>\n",
       "      <td>2019-07-02</td>\n",
       "      <td>3.976767</td>\n",
       "      <td>79.314411</td>\n",
       "    </tr>\n",
       "    <tr>\n",
       "      <th>2</th>\n",
       "      <td>2019-07-03</td>\n",
       "      <td>2.811867</td>\n",
       "      <td>61.020006</td>\n",
       "    </tr>\n",
       "    <tr>\n",
       "      <th>3</th>\n",
       "      <td>2019-07-04</td>\n",
       "      <td>3.658408</td>\n",
       "      <td>83.262576</td>\n",
       "    </tr>\n",
       "    <tr>\n",
       "      <th>4</th>\n",
       "      <td>2019-07-05</td>\n",
       "      <td>5.590683</td>\n",
       "      <td>82.124440</td>\n",
       "    </tr>\n",
       "  </tbody>\n",
       "</table>\n",
       "</div>"
      ],
      "text/plain": [
       "         Date       GHI         PR\n",
       "0  2019-07-01  3.256608  69.575676\n",
       "1  2019-07-02  3.976767  79.314411\n",
       "2  2019-07-03  2.811867  61.020006\n",
       "3  2019-07-04  3.658408  83.262576\n",
       "4  2019-07-05  5.590683  82.124440"
      ]
     },
     "execution_count": 9,
     "metadata": {},
     "output_type": "execute_result"
    }
   ],
   "source": [
    "merged_data.head()"
   ]
  },
  {
   "cell_type": "code",
   "execution_count": null,
   "id": "f2d1928b-8f1e-4776-a241-a24129dd3729",
   "metadata": {},
   "outputs": [],
   "source": []
  }
 ],
 "metadata": {
  "kernelspec": {
   "display_name": "Python 3 (ipykernel)",
   "language": "python",
   "name": "python3"
  },
  "language_info": {
   "codemirror_mode": {
    "name": "ipython",
    "version": 3
   },
   "file_extension": ".py",
   "mimetype": "text/x-python",
   "name": "python",
   "nbconvert_exporter": "python",
   "pygments_lexer": "ipython3",
   "version": "3.11.4"
  }
 },
 "nbformat": 4,
 "nbformat_minor": 5
}
